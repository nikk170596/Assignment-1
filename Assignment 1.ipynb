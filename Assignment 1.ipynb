{
 "cells": [
  {
   "cell_type": "markdown",
   "id": "da428d20",
   "metadata": {},
   "source": [
    " Assigment 1"
   ]
  },
  {
   "cell_type": "markdown",
   "id": "4abf703c",
   "metadata": {},
   "source": [
    "#Q1 in the below elements which of them are values or an expression? eg:-values can be integer or string and expressions will be mathematical operators"
   ]
  },
  {
   "cell_type": "code",
   "execution_count": 2,
   "id": "428ae294",
   "metadata": {},
   "outputs": [],
   "source": [
    "#values - hello(string), -87.8 (float), 6(int)\n",
    "#expression - operators *,+,-,/"
   ]
  },
  {
   "cell_type": "markdown",
   "id": "a580dd26",
   "metadata": {},
   "source": [
    "#Q2 What is difference between string and variable "
   ]
  },
  {
   "cell_type": "code",
   "execution_count": 13,
   "id": "89d74b29",
   "metadata": {},
   "outputs": [
    {
     "data": {
      "text/plain": [
       "'Hello ineuron team'"
      ]
     },
     "execution_count": 13,
     "metadata": {},
     "output_type": "execute_result"
    }
   ],
   "source": [
    "#variables are used to store the data and string is basically a information or data which is stored in variable.\n",
    "# x is variable and hello ineuron team is the information which is stored in x i.e variable\n",
    "a = \"Hello ineuron team\"\n",
    "a"
   ]
  },
  {
   "cell_type": "markdown",
   "id": "2247a195",
   "metadata": {},
   "source": [
    "#Q3 Describe three different data types."
   ]
  },
  {
   "cell_type": "code",
   "execution_count": 7,
   "id": "76835f7a",
   "metadata": {},
   "outputs": [],
   "source": [
    "#data types - numeric data type (int, float), string data type (charc), boolean (true n false) , sequence type (list)"
   ]
  },
  {
   "cell_type": "markdown",
   "id": "6f653926",
   "metadata": {},
   "source": [
    "#Q4 What is an expression made up of? What do all expressions do?"
   ]
  },
  {
   "cell_type": "code",
   "execution_count": 11,
   "id": "0a38af0b",
   "metadata": {},
   "outputs": [
    {
     "data": {
      "text/plain": [
       "888"
      ]
     },
     "execution_count": 11,
     "metadata": {},
     "output_type": "execute_result"
    }
   ],
   "source": [
    "#Expression is the combination of operators and operands\n",
    "# here x , y ,z are the operand and and + is operator which adds the value of x,y and store in the z operand )\n",
    "x = 111\n",
    "y = 777\n",
    "z = x + y\n",
    "z "
   ]
  },
  {
   "cell_type": "markdown",
   "id": "75ed44e8",
   "metadata": {},
   "source": [
    "#Q5 This assignment statements, like spam = 10. What is the difference between an\n",
    "expression and a statement?"
   ]
  },
  {
   "cell_type": "code",
   "execution_count": null,
   "id": "a007b274",
   "metadata": {},
   "outputs": [],
   "source": [
    "#statment is complete line of code which perform or executes something.\n",
    "#expression is used to calculate the the value.\n",
    "#for example \n",
    "# a = \"Hello ineuron team\" - statement\n",
    "# x + y - expression "
   ]
  },
  {
   "cell_type": "markdown",
   "id": "5e7d6e1d",
   "metadata": {},
   "source": [
    "#Q6 After running the following code, what does the variable bacon contain?\n",
    "bacon = 22\n",
    "bacon + 1"
   ]
  },
  {
   "cell_type": "code",
   "execution_count": 15,
   "id": "4ab60b9e",
   "metadata": {},
   "outputs": [
    {
     "data": {
      "text/plain": [
       "22"
      ]
     },
     "execution_count": 15,
     "metadata": {},
     "output_type": "execute_result"
    }
   ],
   "source": [
    "bacon = 22\n",
    "bacon + 1 \n",
    "bacon"
   ]
  },
  {
   "cell_type": "code",
   "execution_count": 17,
   "id": "aa4485d0",
   "metadata": {},
   "outputs": [
    {
     "data": {
      "text/plain": [
       "23"
      ]
     },
     "execution_count": 17,
     "metadata": {},
     "output_type": "execute_result"
    }
   ],
   "source": [
    "bacon + 1"
   ]
  },
  {
   "cell_type": "markdown",
   "id": "584ce4db",
   "metadata": {},
   "source": [
    "#Q7 What should the values of the following two terms be?\n",
    "'spam' + 'spamspam'\n",
    "'spam' * 3"
   ]
  },
  {
   "cell_type": "code",
   "execution_count": 19,
   "id": "aa657ccc",
   "metadata": {},
   "outputs": [
    {
     "data": {
      "text/plain": [
       "'spamspamspam'"
      ]
     },
     "execution_count": 19,
     "metadata": {},
     "output_type": "execute_result"
    }
   ],
   "source": [
    "'spam' + 'spamspam'"
   ]
  },
  {
   "cell_type": "code",
   "execution_count": 21,
   "id": "cd64f762",
   "metadata": {},
   "outputs": [
    {
     "data": {
      "text/plain": [
       "'spamspamspam'"
      ]
     },
     "execution_count": 21,
     "metadata": {},
     "output_type": "execute_result"
    }
   ],
   "source": [
    "'spam' * 3"
   ]
  },
  {
   "cell_type": "markdown",
   "id": "e695f8a9",
   "metadata": {},
   "source": [
    "#Q8 Why is eggs a valid variable name while 100 is invalid?"
   ]
  },
  {
   "cell_type": "code",
   "execution_count": 22,
   "id": "830b3b7b",
   "metadata": {},
   "outputs": [],
   "source": [
    "#we cannot use number as a varibale, variable should always start we alphabet\n",
    "#variables are assigned to the literal functions like string and integer."
   ]
  },
  {
   "cell_type": "code",
   "execution_count": 25,
   "id": "20bda5a3",
   "metadata": {},
   "outputs": [
    {
     "ename": "SyntaxError",
     "evalue": "cannot assign to literal (Temp/ipykernel_19624/3114429693.py, line 1)",
     "output_type": "error",
     "traceback": [
      "\u001b[1;36m  File \u001b[1;32m\"C:\\Users\\Nikit\\AppData\\Local\\Temp/ipykernel_19624/3114429693.py\"\u001b[1;36m, line \u001b[1;32m1\u001b[0m\n\u001b[1;33m    5 = \"age\"\u001b[0m\n\u001b[1;37m    ^\u001b[0m\n\u001b[1;31mSyntaxError\u001b[0m\u001b[1;31m:\u001b[0m cannot assign to literal\n"
     ]
    }
   ],
   "source": [
    "5 = \"age\""
   ]
  },
  {
   "cell_type": "markdown",
   "id": "7beafa30",
   "metadata": {},
   "source": [
    "#Q9 What three functions can be used to get the integer, floating-point number, or string\n",
    "version of a value?"
   ]
  },
  {
   "cell_type": "code",
   "execution_count": 27,
   "id": "d1fc09c7",
   "metadata": {},
   "outputs": [
    {
     "data": {
      "text/plain": [
       "17"
      ]
     },
     "execution_count": 27,
     "metadata": {},
     "output_type": "execute_result"
    }
   ],
   "source": [
    "a = 17.96\n",
    "int (a)"
   ]
  },
  {
   "cell_type": "code",
   "execution_count": 29,
   "id": "08d91285",
   "metadata": {},
   "outputs": [
    {
     "data": {
      "text/plain": [
       "17.96"
      ]
     },
     "execution_count": 29,
     "metadata": {},
     "output_type": "execute_result"
    }
   ],
   "source": [
    "float(a)"
   ]
  },
  {
   "cell_type": "code",
   "execution_count": 33,
   "id": "4fb1a807",
   "metadata": {},
   "outputs": [
    {
     "data": {
      "text/plain": [
       "'17.96'"
      ]
     },
     "execution_count": 33,
     "metadata": {},
     "output_type": "execute_result"
    }
   ],
   "source": [
    "a = str(\"17.96\")\n",
    "a"
   ]
  },
  {
   "cell_type": "markdown",
   "id": "5857c616",
   "metadata": {},
   "source": [
    "#Q10 Why does this expression cause an error? How can you fix it?\n",
    "'I have eaten' + 99 + 'burritos.'"
   ]
  },
  {
   "cell_type": "code",
   "execution_count": 35,
   "id": "3c473c76",
   "metadata": {},
   "outputs": [
    {
     "data": {
      "text/plain": [
       "'i have eaten 99 burritos'"
      ]
     },
     "execution_count": 35,
     "metadata": {},
     "output_type": "execute_result"
    }
   ],
   "source": [
    "# 99 is not a string ,to do an addition of string everything should be in the form of string,\n",
    "\"i have eaten \"+\"99 \"+\"burritos\""
   ]
  }
 ],
 "metadata": {
  "kernelspec": {
   "display_name": "Python 3 (ipykernel)",
   "language": "python",
   "name": "python3"
  },
  "language_info": {
   "codemirror_mode": {
    "name": "ipython",
    "version": 3
   },
   "file_extension": ".py",
   "mimetype": "text/x-python",
   "name": "python",
   "nbconvert_exporter": "python",
   "pygments_lexer": "ipython3",
   "version": "3.9.7"
  }
 },
 "nbformat": 4,
 "nbformat_minor": 5
}
